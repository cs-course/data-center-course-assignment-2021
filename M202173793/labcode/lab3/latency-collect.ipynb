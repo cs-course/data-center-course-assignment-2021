{
 "cells": [
  {
   "cell_type": "markdown",
   "metadata": {},
   "source": [
    "实验环境初始化"
   ]
  },
  {
   "cell_type": "code",
   "execution_count": null,
   "metadata": {},
   "outputs": [],
   "source": [
    "!pip install boto3"
   ]
  },
  {
   "cell_type": "code",
   "execution_count": null,
   "metadata": {},
   "outputs": [],
   "source": [
    "!pip install throttle"
   ]
  },
  {
   "cell_type": "code",
   "execution_count": 1,
   "metadata": {},
   "outputs": [],
   "source": [
    "import os\n",
    "import time\n",
    "from concurrent.futures import ThreadPoolExecutor, as_completed\n",
    "from boto3.session import Session\n",
    "import botocore\n",
    "from tqdm import tqdm\n",
    "import throttle\n",
    "\n",
    "import threading\n",
    "\n",
    "# 准备密钥\n",
    "aws_access_key_id = 'hust'\n",
    "aws_secret_access_key = 'hust_obs'\n",
    "\n",
    "# 本地S3服务地址\n",
    "local_s3 = 'http://127.0.0.1:9000'\n",
    "\n",
    "# 建立会话\n",
    "session = Session(aws_access_key_id=aws_access_key_id, aws_secret_access_key=aws_secret_access_key)\n",
    "\n",
    "# 连接到服务\n",
    "s3 = session.resource('s3', endpoint_url=local_s3)"
   ]
  },
  {
   "cell_type": "markdown",
   "metadata": {},
   "source": [
    "查看所有bucket"
   ]
  },
  {
   "cell_type": "code",
   "execution_count": 2,
   "metadata": {},
   "outputs": [
    {
     "name": "stdout",
     "output_type": "stream",
     "text": [
      "bucket name:loadgen\n"
     ]
    }
   ],
   "source": [
    "for bucket in s3.buckets.all():\n",
    "    print('bucket name:%s' % bucket.name)"
   ]
  },
  {
   "cell_type": "markdown",
   "metadata": {},
   "source": [
    "新建一个实验用 bucket (注意：\"bucket name\" 中不能有下划线)"
   ]
  },
  {
   "cell_type": "code",
   "execution_count": 3,
   "metadata": {},
   "outputs": [],
   "source": [
    "bucket_name = 'test100objs'\n",
    "if s3.Bucket(bucket_name) not in s3.buckets.all():\n",
    "    s3.create_bucket(Bucket=bucket_name)"
   ]
  },
  {
   "cell_type": "markdown",
   "metadata": {},
   "source": [
    "查看此 bucket 下的所有 object (若之前实验没有正常结束，则不为空)"
   ]
  },
  {
   "cell_type": "code",
   "execution_count": 4,
   "metadata": {},
   "outputs": [],
   "source": [
    "bucket = s3.Bucket(bucket_name)\n",
    "for obj in bucket.objects.all():\n",
    "    print('obj name:%s' % obj.key)"
   ]
  },
  {
   "cell_type": "markdown",
   "metadata": {},
   "source": [
    "准备负载，可以按照几种不同请求到达率 (Inter-Arrival Time, IAT) 设置。"
   ]
  },
  {
   "cell_type": "code",
   "execution_count": 5,
   "metadata": {},
   "outputs": [],
   "source": [
    "# 初始化本地数据文件\n",
    "local_file = \"_test_4K.bin\"\n",
    "test_bytes = [0xFF for i in range(1024*4)] # 填充至所需大小\n",
    "\n",
    "with open(local_file, \"wb\") as lf:\n",
    "    lf.write(bytearray(test_bytes))\n",
    "\n",
    "# 发起请求和计算系统停留时间\n",
    "def request_timing(s3res, i): # 使用独立 session.resource 以保证线程安全\n",
    "    obj_name = \"testObj%08d\"%(i,) # 所建对象名\n",
    "    # temp_file = '.tempfile'\n",
    "    service_time = 0 # 系统滞留时间\n",
    "    start = time.time()\n",
    "    s3res.Object(bucket_name, obj_name).upload_file(local_file) # 将本地文件上传为对象\n",
    "    # 或\n",
    "    # bucket.put_object(Key=obj_name, Body=open(local_file, 'rb'))\n",
    "    # 下载obj\n",
    "    # s3res.Object(bucket_name, obj_name).download_file(temp_file)\n",
    "    end = time.time()\n",
    "    system_time = end - start\n",
    "    return system_time * 1000 # 换算为毫秒\n",
    "\n",
    "# 按照请求到达率限制来执行和跟踪请求\n",
    "def arrival_rate_max(s3res, i): # 不进行限速\n",
    "    return request_timing(s3res, i)\n",
    "\n",
    "@throttle.wrap(0.1, 2) # 100ms 内不超过 2 个请求，下同……\n",
    "def arrival_rate_2(s3res, i):\n",
    "    return request_timing(s3res, i)\n",
    "\n",
    "@throttle.wrap(0.1, 4)\n",
    "def arrival_rate_4(s3res, i):\n",
    "    return request_timing(s3res, i)\n",
    "\n",
    "@throttle.wrap(0.1, 8)\n",
    "def arrival_rate_8(s3res, i):\n",
    "    return request_timing(s3res, i)"
   ]
  },
  {
   "cell_type": "markdown",
   "metadata": {},
   "source": [
    "按照预设IAT发起请求"
   ]
  },
  {
   "cell_type": "code",
   "execution_count": 6,
   "metadata": {},
   "outputs": [
    {
     "name": "stderr",
     "output_type": "stream",
     "text": [
      "Accessing S3: 100%|██████████████████████████████████████████████████████████████████| 100/100 [00:01<00:00, 95.23it/s]\n"
     ]
    }
   ],
   "source": [
    "latency = []\n",
    "failed_requests = []\n",
    "\n",
    "with tqdm(desc=\"Accessing S3\", total=100) as pbar:      # 进度条设置，合计执行 100 项上传任务 (见 submit 部分)，进度也设置为 100 步\n",
    "    with ThreadPoolExecutor(max_workers=1) as executor: # 通过 max_workers 设置并发线程数\n",
    "        futures = [\n",
    "            executor.submit(\n",
    "                arrival_rate_max,\n",
    "                session.resource('s3', endpoint_url=local_s3), i) for i in range(100) # 为保证线程安全，应给每个任务申请一个新 resource\n",
    "            ]\n",
    "        for future in as_completed(futures):\n",
    "            if future.exception():\n",
    "                failed_requests.append(futures[future])\n",
    "            else:\n",
    "                latency.append(future.result())\n",
    "            pbar.update(1)"
   ]
  },
  {
   "cell_type": "markdown",
   "metadata": {},
   "source": [
    "清理实验环境"
   ]
  },
  {
   "cell_type": "code",
   "execution_count": 7,
   "metadata": {},
   "outputs": [],
   "source": [
    "try:\n",
    "    # 删除bucket下所有object\n",
    "    bucket.objects.filter().delete()\n",
    "\n",
    "    # 删除bucket下某个object\n",
    "    # bucket.objects.filter(Prefix=obj_name).delete()\n",
    "\n",
    "    bucket.delete()\n",
    "except botocore.exceptions.ClientError as e:\n",
    "    print('error in bucket removal')"
   ]
  },
  {
   "cell_type": "markdown",
   "metadata": {},
   "source": [
    "删除本地测试文件"
   ]
  },
  {
   "cell_type": "code",
   "execution_count": null,
   "metadata": {},
   "outputs": [],
   "source": [
    "os.remove(local_file)"
   ]
  },
  {
   "cell_type": "markdown",
   "metadata": {},
   "source": [
    "记录延迟到CSV文件"
   ]
  },
  {
   "cell_type": "code",
   "execution_count": null,
   "metadata": {},
   "outputs": [],
   "source": [
    "with open(\"latency.csv\", \"w+\") as tracefile:\n",
    "    tracefile.write(\"latency\\n\")\n",
    "    tracefile.writelines([str(l) + '\\n' for l in latency])"
   ]
  },
  {
   "cell_type": "code",
   "execution_count": null,
   "metadata": {},
   "outputs": [],
   "source": [
    "关联请求"
   ]
  },
  {
   "cell_type": "code",
   "execution_count": null,
   "metadata": {},
   "outputs": [],
   "source": [
    "delay = 30\n",
    "total = 100\n",
    "latency_dict = dict()\n",
    "for i in range(total):\n",
    "    latency_dict[i] = 10000 # 设置极大值"
   ]
  },
  {
   "cell_type": "code",
   "execution_count": null,
   "metadata": {},
   "outputs": [],
   "source": [
    "def tied_request():\n",
    "    # 已经响应的请求\n",
    "    answered = set([int(i.key[-8:]) for i in bucket.objects.all()])\n",
    "    all_request = set([i for i in range(100)])\n",
    "    unanswered = all_request - answered\n",
    "    for i in unanswered:\n",
    "        use_time = arrival_rate_max(session.resource('s3', endpoint_url=local_s3), i)\n",
    "        latency_dict[i] = min(use_time+30, latency_dict[i])"
   ]
  },
  {
   "cell_type": "code",
   "execution_count": null,
   "metadata": {},
   "outputs": [],
   "source": [
    "timer = threading.Timer(delay * 0.001, tied_request)\n",
    "timer.start()\n",
    "for i in range(100):\n",
    "    use_time = arrival_rate_max(session.resource('s3', endpoint_url=local_s3), i)\n",
    "    latency_dict[i] = min(use_time, latency_dict[i])\n",
    "    "
   ]
  },
  {
   "cell_type": "code",
   "execution_count": null,
   "metadata": {},
   "outputs": [],
   "source": [
    "# 保存\n",
    "with open(\"latency.csv\", \"w+\") as tracefile:\n",
    "    tracefile.write(\"latency\\n\")\n",
    "    tracefile.writelines([str(l) + '\\n' for l in latency_dict.values()])"
   ]
  }
 ],
 "metadata": {
  "interpreter": {
   "hash": "f487011d6c19380a0f12fb28ca8659fdd2afd3ccddcfad5755f4bb9819179fc2"
  },
  "kernelspec": {
   "display_name": "Python 3",
   "language": "python",
   "name": "python3"
  },
  "language_info": {
   "codemirror_mode": {
    "name": "ipython",
    "version": 3
   },
   "file_extension": ".py",
   "mimetype": "text/x-python",
   "name": "python",
   "nbconvert_exporter": "python",
   "pygments_lexer": "ipython3",
   "version": "3.8.8"
  }
 },
 "nbformat": 4,
 "nbformat_minor": 2
}
